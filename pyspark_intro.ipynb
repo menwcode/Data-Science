{
  "nbformat": 4,
  "nbformat_minor": 0,
  "metadata": {
    "colab": {
      "name": "pyspark_intro.ipynb",
      "provenance": [],
      "collapsed_sections": [],
      "toc_visible": true,
      "authorship_tag": "ABX9TyM7UuJ9W60PN0jf7draxonV",
      "include_colab_link": true
    },
    "kernelspec": {
      "name": "python3",
      "display_name": "Python 3"
    }
  },
  "cells": [
    {
      "cell_type": "markdown",
      "metadata": {
        "id": "view-in-github",
        "colab_type": "text"
      },
      "source": [
        "<a href=\"https://colab.research.google.com/github/menwcode/Data-Science/blob/main/pyspark_intro.ipynb\" target=\"_parent\"><img src=\"https://colab.research.google.com/assets/colab-badge.svg\" alt=\"Open In Colab\"/></a>"
      ]
    },
    {
      "cell_type": "code",
      "metadata": {
        "id": "8m0vSXMjGgsZ"
      },
      "source": [
        "!apt-get update\n",
        "!apt-get install openjdk-8-jdk-headless -qq > /dev/null\n"
      ],
      "execution_count": null,
      "outputs": []
    },
    {
      "cell_type": "code",
      "metadata": {
        "id": "1Bpp4nMNXhdO"
      },
      "source": [
        "!wget -q https://downloads.apache.org/spark/spark-3.0.1/spark-3.0.1-bin-hadoop2.7.tgz\n",
        "!tar xf spark-3.0.1-bin-hadoop2.7.tgz\n",
        "!pip install -q findspark"
      ],
      "execution_count": null,
      "outputs": []
    },
    {
      "cell_type": "code",
      "metadata": {
        "id": "h4Mx5PXvHip-"
      },
      "source": [
        "import os\n",
        "os.environ[\"JAVA_HOME\"] = \"/usr/lib/jvm/java-8-openjdk-amd64\"\n",
        "os.environ[\"SPARK_HOME\"] = \"/content/spark-3.0.1-bin-hadoop2.7\""
      ],
      "execution_count": null,
      "outputs": []
    },
    {
      "cell_type": "code",
      "metadata": {
        "id": "QUf_tULCX0KC"
      },
      "source": [
        "#list all the files\n",
        "!ls -l"
      ],
      "execution_count": null,
      "outputs": []
    },
    {
      "cell_type": "markdown",
      "metadata": {
        "id": "aiAY2LzSDRp7"
      },
      "source": [
        "total 214788\n",
        "drwxr-xr-x  1 root root      4096 Nov  6 17:30 sample_data\n",
        "drwxr-xr-x 13 1000 1000      4096 Aug 28 08:10 spark-3.0.1-bin-hadoop2.7\n",
        "-rw-r--r--  1 root root 219929956 Aug 28 09:25 spark-3.0.1-bin-hadoop2.7.tgz\n"
      ]
    },
    {
      "cell_type": "markdown",
      "metadata": {
        "id": "9cUqbsYwDTZt"
      },
      "source": [
        ""
      ]
    },
    {
      "cell_type": "code",
      "metadata": {
        "id": "wP4li3KCHzGg"
      },
      "source": [
        "import findspark\n",
        "findspark.init()\n",
        "from pyspark.sql import SparkSession\n",
        "spark = SparkSession.builder.getOrCreate()\n",
        "spark"
      ],
      "execution_count": null,
      "outputs": []
    },
    {
      "cell_type": "code",
      "metadata": {
        "id": "QY9gCoVwZWcP"
      },
      "source": [
        "!wget https://data.cityofchicago.org/api/views/ijzp-q8t2/rows.csv?accessType=DOWNLOAD"
      ],
      "execution_count": null,
      "outputs": []
    },
    {
      "cell_type": "code",
      "metadata": {
        "id": "Goaq2hfwxP8A"
      },
      "source": [
        "!ls -l"
      ],
      "execution_count": null,
      "outputs": []
    },
    {
      "cell_type": "code",
      "metadata": {
        "id": "ApRoXJi7xR6V"
      },
      "source": [
        "#move the rows.csv?accessType=DOWNLOAD\n",
        "!mv rows.csv\\?accessType\\=DOWNLOAD reported-crimes.csv\n"
      ],
      "execution_count": null,
      "outputs": []
    },
    {
      "cell_type": "code",
      "metadata": {
        "id": "0y1qtP9VxctK"
      },
      "source": [
        "!ls -l"
      ],
      "execution_count": null,
      "outputs": []
    },
    {
      "cell_type": "code",
      "metadata": {
        "id": "hK-ztK-hkJ9i"
      },
      "source": [
        "#Laod data in pyspark\n",
        "from pyspark.sql.functions import to_timestamp, col, lit\n",
        "df = spark.read.csv('reported-crimes.csv', header = True).withColumn('Date', to_timestamp(col('Date'), 'MM/dd/yyyy hh:mm:ss a')).filter(col('Date') <= lit('2018-11-11'))\n",
        "df.show(5)"
      ],
      "execution_count": null,
      "outputs": []
    },
    {
      "cell_type": "code",
      "metadata": {
        "id": "JWp3myqAy1t_"
      },
      "source": [
        "##List all the columns\n",
        "df.columns"
      ],
      "execution_count": null,
      "outputs": []
    },
    {
      "cell_type": "code",
      "metadata": {
        "id": "lpyU9UPuy14r"
      },
      "source": [
        "#Length of the all the fields\n",
        "len(df.columns)"
      ],
      "execution_count": null,
      "outputs": []
    },
    {
      "cell_type": "code",
      "metadata": {
        "id": "BOdp4CRMy18G"
      },
      "source": [
        "#Count method to get the all the records\n",
        "df.count()"
      ],
      "execution_count": null,
      "outputs": []
    },
    {
      "cell_type": "code",
      "metadata": {
        "id": "tS3N_BHKzJNu"
      },
      "source": [
        "#A duplicate of Pandas shape\n",
        "print((df.count()), (len(df.columns)))"
      ],
      "execution_count": null,
      "outputs": []
    },
    {
      "cell_type": "code",
      "metadata": {
        "id": "0UWitFOVzlLp"
      },
      "source": [
        "#List the Schema\n",
        "df.printSchema()"
      ],
      "execution_count": null,
      "outputs": []
    },
    {
      "cell_type": "code",
      "metadata": {
        "id": "q0XrEqAYzleM"
      },
      "source": [
        "#show only 2 columns values\n",
        "df.select('Case Number', 'Arrest').show(5)"
      ],
      "execution_count": null,
      "outputs": []
    },
    {
      "cell_type": "code",
      "metadata": {
        "id": "SG_DX3xDzlh7"
      },
      "source": [
        "#Statistical measure of each columns of the dataframe\n",
        "df.describe().show()"
      ],
      "execution_count": null,
      "outputs": []
    },
    {
      "cell_type": "code",
      "metadata": {
        "id": "uoEg_WJkzlk-"
      },
      "source": [
        "#Adding a new column\n",
        "#withcolumn function of Spark, lets you add a new column  sexual_crime by checking \"Primary Type\"\n",
        "#df.withColumn(\"sexual_crime\")\n"
      ],
      "execution_count": null,
      "outputs": []
    },
    {
      "cell_type": "code",
      "metadata": {
        "id": "8TKCipg35KDp"
      },
      "source": [
        "from pyspark.sql.types import StringType, DoubleType"
      ],
      "execution_count": null,
      "outputs": []
    },
    {
      "cell_type": "code",
      "metadata": {
        "id": "zM9pnYVl5KbS"
      },
      "source": [
        ""
      ],
      "execution_count": null,
      "outputs": []
    },
    {
      "cell_type": "markdown",
      "metadata": {
        "id": "e2OCVntT54pL"
      },
      "source": [
        "Filtering data\n"
      ]
    },
    {
      "cell_type": "code",
      "metadata": {
        "id": "gWcX5svK5KhT"
      },
      "source": [
        "df.filter(df[\"Primary Type\"] == \"CRIM SEXUAL ASSAULT\").show()"
      ],
      "execution_count": null,
      "outputs": []
    },
    {
      "cell_type": "code",
      "metadata": {
        "id": "mHjudKdj5Kel"
      },
      "source": [
        "#Show all the crimes related to Sexual assulat and Predatory\n",
        "df.filter((df[\"Primary Type\"] == \"CRIM SEXUAL ASSAULT\") & (df[\"Description\"] == \"PREDATORY\")).show()\n"
      ],
      "execution_count": null,
      "outputs": []
    },
    {
      "cell_type": "markdown",
      "metadata": {
        "id": "GnkSI2aq7MqU"
      },
      "source": [
        "Show Distinct Values"
      ]
    },
    {
      "cell_type": "code",
      "metadata": {
        "id": "LihtYABH5KYE"
      },
      "source": [
        "#Show distinct values of with Truncate set to False\n",
        "df.select(\"Primary Type\").distinct().show(truncate = False)"
      ],
      "execution_count": null,
      "outputs": []
    },
    {
      "cell_type": "code",
      "metadata": {
        "id": "oy0-FAv-78ta"
      },
      "source": [
        "#Grouping Data\n",
        "df.groupBy('Primary Type').count().show(50, False)"
      ],
      "execution_count": null,
      "outputs": []
    },
    {
      "cell_type": "markdown",
      "metadata": {
        "id": "LSBFgwff8qp5"
      },
      "source": [
        "Put order in above output"
      ]
    },
    {
      "cell_type": "code",
      "metadata": {
        "id": "fIR-HW4N78wr"
      },
      "source": [
        "df.groupBy(\"Primary Type\").count().orderBy('count', ascending=False).show(50, False)"
      ],
      "execution_count": null,
      "outputs": []
    },
    {
      "cell_type": "code",
      "metadata": {
        "id": "ByywJt4478ks"
      },
      "source": [
        "df.groupBy(\"Block\").count().orderBy('count', ascending=False).show(50, False)"
      ],
      "execution_count": null,
      "outputs": []
    },
    {
      "cell_type": "code",
      "metadata": {
        "id": "2Up5KjG5AU48"
      },
      "source": [
        "#Show all the Arrest by the crime type\n",
        "df.select(\"Arrest\").distinct().show()"
      ],
      "execution_count": null,
      "outputs": []
    },
    {
      "cell_type": "code",
      "metadata": {
        "id": "Y0KN0JwRFOFK",
        "outputId": "1db32f5b-1caf-4454-a828-8b63082d0429",
        "colab": {
          "base_uri": "https://localhost:8080/",
          "height": 0
        }
      },
      "source": [
        "#What is the arrest percentage\n",
        "df.filter(df[\"Arrest\"] == \"true\").count()/df.select(\"Arrest\").count()"
      ],
      "execution_count": 45,
      "outputs": [
        {
          "output_type": "execute_result",
          "data": {
            "text/plain": [
              "0.27754484080007524"
            ]
          },
          "metadata": {
            "tags": []
          },
          "execution_count": 45
        }
      ]
    },
    {
      "cell_type": "markdown",
      "metadata": {
        "id": "q_hhJrpsHNrI"
      },
      "source": [
        "# Show the top location of Crime"
      ]
    },
    {
      "cell_type": "code",
      "metadata": {
        "id": "0pq7z-ABFOJQ",
        "outputId": "96aad3c3-7dd5-4e28-f947-cbf2a4c698ad",
        "colab": {
          "base_uri": "https://localhost:8080/",
          "height": 0
        }
      },
      "source": [
        "#Top crime location in the city\n",
        "df.groupBy(\"Location Description\").count().orderBy('count', ascending=False).show(50, False)"
      ],
      "execution_count": 48,
      "outputs": [
        {
          "output_type": "stream",
          "text": [
            "+---------------------------------+-------+\n",
            "|Location Description             |count  |\n",
            "+---------------------------------+-------+\n",
            "|STREET                           |1770578|\n",
            "|RESIDENCE                        |1144978|\n",
            "|APARTMENT                        |698338 |\n",
            "|SIDEWALK                         |665552 |\n",
            "|OTHER                            |256793 |\n",
            "|PARKING LOT/GARAGE(NON.RESID.)   |193760 |\n",
            "|ALLEY                            |150911 |\n",
            "|SCHOOL, PUBLIC, BUILDING         |142316 |\n",
            "|RESIDENCE-GARAGE                 |131605 |\n",
            "|SMALL RETAIL STORE               |119270 |\n",
            "|RESIDENCE PORCH/HALLWAY          |117902 |\n",
            "|VEHICLE NON-COMMERCIAL           |108435 |\n",
            "|RESTAURANT                       |105608 |\n",
            "|GROCERY FOOD STORE               |87301  |\n",
            "|DEPARTMENT STORE                 |83663  |\n",
            "|GAS STATION                      |71985  |\n",
            "|RESIDENTIAL YARD (FRONT/BACK)    |69449  |\n",
            "|CHA PARKING LOT/GROUNDS          |55452  |\n",
            "|PARK PROPERTY                    |52340  |\n",
            "|COMMERCIAL / BUSINESS OFFICE     |49176  |\n",
            "|CTA PLATFORM                     |36282  |\n",
            "|CHA APARTMENT                    |36003  |\n",
            "|BAR OR TAVERN                    |35976  |\n",
            "|DRUG STORE                       |30593  |\n",
            "|SCHOOL, PUBLIC, GROUNDS          |28993  |\n",
            "|HOTEL/MOTEL                      |28013  |\n",
            "|BANK                             |27535  |\n",
            "|CHA HALLWAY/STAIRWELL/ELEVATOR   |24811  |\n",
            "|CTA TRAIN                        |23980  |\n",
            "|VACANT LOT/LAND                  |23911  |\n",
            "|TAVERN/LIQUOR STORE              |21810  |\n",
            "|CTA BUS                          |21583  |\n",
            "|HOSPITAL BUILDING/GROUNDS        |20439  |\n",
            "|DRIVEWAY - RESIDENTIAL           |19598  |\n",
            "|POLICE FACILITY/VEH PARKING LOT  |17606  |\n",
            "|AIRPORT/AIRCRAFT                 |16114  |\n",
            "|CONVENIENCE STORE                |16005  |\n",
            "|CHURCH/SYNAGOGUE/PLACE OF WORSHIP|14872  |\n",
            "|GOVERNMENT BUILDING/PROPERTY     |14137  |\n",
            "|NURSING HOME/RETIREMENT HOME     |13451  |\n",
            "|SCHOOL, PRIVATE, BUILDING        |13405  |\n",
            "|CONSTRUCTION SITE                |12906  |\n",
            "|ABANDONED BUILDING               |11178  |\n",
            "|CURRENCY EXCHANGE                |10768  |\n",
            "|CTA GARAGE / OTHER PROPERTY      |9937   |\n",
            "|WAREHOUSE                        |9232   |\n",
            "|ATHLETIC CLUB                    |8029   |\n",
            "|BARBERSHOP                       |7699   |\n",
            "|ATM (AUTOMATIC TELLER MACHINE)   |7591   |\n",
            "|TAXICAB                          |7211   |\n",
            "+---------------------------------+-------+\n",
            "only showing top 50 rows\n",
            "\n"
          ],
          "name": "stdout"
        }
      ]
    },
    {
      "cell_type": "markdown",
      "metadata": {
        "id": "xkvHr1g0Gp7p"
      },
      "source": [
        "## String Functions\n",
        "Display the primary type column in lower and upper characters and the first 4 characters\n",
        "\n"
      ]
    },
    {
      "cell_type": "code",
      "metadata": {
        "id": "ncOM8Yr5G-ol",
        "outputId": "b8772fc8-0f38-4a08-ecc1-81f63cae4478",
        "colab": {
          "base_uri": "https://localhost:8080/",
          "height": 0
        }
      },
      "source": [
        "from pyspark.sql.functions import lower, upper, substring\n",
        "df.select(lower(df[\"Primary Type\"]), upper(df[\"Primary Type\"]), substring(df[\"Primary Type\"], 1, 4)).show(5, truncate=False)"
      ],
      "execution_count": 52,
      "outputs": [
        {
          "output_type": "stream",
          "text": [
            "+-------------------+-------------------+-----------------------------+\n",
            "|lower(Primary Type)|upper(Primary Type)|substring(Primary Type, 1, 4)|\n",
            "+-------------------+-------------------+-----------------------------+\n",
            "|deceptive practice |DECEPTIVE PRACTICE |DECE                         |\n",
            "|crim sexual assault|CRIM SEXUAL ASSAULT|CRIM                         |\n",
            "|burglary           |BURGLARY           |BURG                         |\n",
            "|theft              |THEFT              |THEF                         |\n",
            "|crim sexual assault|CRIM SEXUAL ASSAULT|CRIM                         |\n",
            "+-------------------+-------------------+-----------------------------+\n",
            "only showing top 5 rows\n",
            "\n"
          ],
          "name": "stdout"
        }
      ]
    },
    {
      "cell_type": "markdown",
      "metadata": {
        "id": "OLfGgwy_H_ga"
      },
      "source": [
        "# Show the oldest date and most recent dates"
      ]
    },
    {
      "cell_type": "markdown",
      "metadata": {
        "id": "TYZGyajO5Jim"
      },
      "source": [
        ""
      ]
    },
    {
      "cell_type": "code",
      "metadata": {
        "id": "S7GeNJFEIEun",
        "outputId": "e09db4d3-bf43-4bde-aa6b-51b24a6eefeb",
        "colab": {
          "base_uri": "https://localhost:8080/",
          "height": 0
        }
      },
      "source": [
        "from pyspark.sql.functions import  min, max\n",
        "df.select(min(df[\"Date\"]), max(col('Date'))).show()"
      ],
      "execution_count": 53,
      "outputs": [
        {
          "output_type": "stream",
          "text": [
            "+-------------------+-------------------+\n",
            "|          min(Date)|          max(Date)|\n",
            "+-------------------+-------------------+\n",
            "|2001-01-01 00:00:00|2018-11-11 00:00:00|\n",
            "+-------------------+-------------------+\n",
            "\n"
          ],
          "name": "stdout"
        }
      ]
    },
    {
      "cell_type": "markdown",
      "metadata": {
        "id": "ZIj0E7ptIngr"
      },
      "source": [
        "# What is 3 days earlier than the older date and 3 days later than the most recent dates"
      ]
    },
    {
      "cell_type": "code",
      "metadata": {
        "id": "TQy27MuxIiqD",
        "outputId": "4875300b-abd3-467c-c12a-fd73c44f86b8",
        "colab": {
          "base_uri": "https://localhost:8080/",
          "height": 181
        }
      },
      "source": [
        "from pyspark.sql.functions import date_add, date_sub\n",
        "df.select(date_sub(min(df[\"Date\"])), 3)"
      ],
      "execution_count": 57,
      "outputs": [
        {
          "output_type": "error",
          "ename": "TypeError",
          "evalue": "ignored",
          "traceback": [
            "\u001b[0;31m---------------------------------------------------------------------------\u001b[0m",
            "\u001b[0;31mTypeError\u001b[0m                                 Traceback (most recent call last)",
            "\u001b[0;32m<ipython-input-57-f200ad0dcd3c>\u001b[0m in \u001b[0;36m<module>\u001b[0;34m()\u001b[0m\n\u001b[1;32m      1\u001b[0m \u001b[0;32mfrom\u001b[0m \u001b[0mpyspark\u001b[0m\u001b[0;34m.\u001b[0m\u001b[0msql\u001b[0m\u001b[0;34m.\u001b[0m\u001b[0mfunctions\u001b[0m \u001b[0;32mimport\u001b[0m \u001b[0mdate_add\u001b[0m\u001b[0;34m,\u001b[0m \u001b[0mdate_sub\u001b[0m\u001b[0;34m\u001b[0m\u001b[0;34m\u001b[0m\u001b[0m\n\u001b[0;32m----> 2\u001b[0;31m \u001b[0mdf\u001b[0m\u001b[0;34m.\u001b[0m\u001b[0mselect\u001b[0m\u001b[0;34m(\u001b[0m\u001b[0mdate_sub\u001b[0m\u001b[0;34m(\u001b[0m\u001b[0mmin\u001b[0m\u001b[0;34m(\u001b[0m\u001b[0mdf\u001b[0m\u001b[0;34m[\u001b[0m\u001b[0;34m\"Date\"\u001b[0m\u001b[0;34m]\u001b[0m\u001b[0;34m)\u001b[0m\u001b[0;34m)\u001b[0m\u001b[0;34m,\u001b[0m \u001b[0;36m3\u001b[0m\u001b[0;34m)\u001b[0m\u001b[0;34m\u001b[0m\u001b[0;34m\u001b[0m\u001b[0m\n\u001b[0m",
            "\u001b[0;31mTypeError\u001b[0m: date_sub() missing 1 required positional argument: 'days'"
          ]
        }
      ]
    },
    {
      "cell_type": "code",
      "metadata": {
        "id": "3hnvl1UFMJ0M",
        "outputId": "1bb0164a-e1b5-418d-f471-92c16b8b08c8",
        "colab": {
          "base_uri": "https://localhost:8080/"
        }
      },
      "source": [
        "#\n",
        "df.groupBy('Primary Type').max().show(5, False)"
      ],
      "execution_count": 59,
      "outputs": [
        {
          "output_type": "stream",
          "text": [
            "+--------------------------+\n",
            "|Primary Type              |\n",
            "+--------------------------+\n",
            "|OFFENSE INVOLVING CHILDREN|\n",
            "|CRIMINAL SEXUAL ASSAULT   |\n",
            "|STALKING                  |\n",
            "|PUBLIC PEACE VIOLATION    |\n",
            "|OBSCENITY                 |\n",
            "+--------------------------+\n",
            "only showing top 5 rows\n",
            "\n"
          ],
          "name": "stdout"
        }
      ]
    },
    {
      "cell_type": "markdown",
      "metadata": {
        "id": "-gd7zOgXJb1o"
      },
      "source": [
        "# UDF (User Defined Functions): there is a performance impact"
      ]
    },
    {
      "cell_type": "code",
      "metadata": {
        "id": "ifldlKs_Jbrp"
      },
      "source": [
        "#Traditional Python function\n",
        "from pyspark.sql.functions import  udf\n",
        "\n",
        "def price_range(brand):\n",
        "  if brand in ['Samsung','Apple']:\n",
        "    return 'High Price'\n",
        "  elif brand == \"MI\":\n",
        "    return \"mid Price\"\n",
        "  else:\n",
        "    return \"low price\""
      ],
      "execution_count": 63,
      "outputs": []
    },
    {
      "cell_type": "code",
      "metadata": {
        "id": "71dtQ5s1NWxs"
      },
      "source": [
        "#Now you could call\n",
        "brand_udf = udf()"
      ],
      "execution_count": null,
      "outputs": []
    }
  ]
}