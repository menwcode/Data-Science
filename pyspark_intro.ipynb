{
  "nbformat": 4,
  "nbformat_minor": 0,
  "metadata": {
    "colab": {
      "name": "pyspark_intro.ipynb",
      "provenance": [],
      "collapsed_sections": [],
      "toc_visible": true,
      "authorship_tag": "ABX9TyNlWXl91GpP/Tx0ED1jdm9g",
      "include_colab_link": true
    },
    "kernelspec": {
      "name": "python3",
      "display_name": "Python 3"
    }
  },
  "cells": [
    {
      "cell_type": "markdown",
      "metadata": {
        "id": "view-in-github",
        "colab_type": "text"
      },
      "source": [
        "<a href=\"https://colab.research.google.com/github/menwcode/Data-Science/blob/main/pyspark_intro.ipynb\" target=\"_parent\"><img src=\"https://colab.research.google.com/assets/colab-badge.svg\" alt=\"Open In Colab\"/></a>"
      ]
    },
    {
      "cell_type": "code",
      "metadata": {
        "id": "8m0vSXMjGgsZ"
      },
      "source": [
        "!apt-get update\n",
        "!apt-get install openjdk-8-jdk-headless -qq > /dev/null\n"
      ],
      "execution_count": null,
      "outputs": []
    },
    {
      "cell_type": "code",
      "metadata": {
        "id": "1Bpp4nMNXhdO"
      },
      "source": [
        "!wget -q https://downloads.apache.org/spark/spark-3.0.1/spark-3.0.1-bin-hadoop2.7.tgz\n",
        "!tar xf spark-3.0.1-bin-hadoop2.7.tgz\n",
        "!pip install -q findspark"
      ],
      "execution_count": null,
      "outputs": []
    },
    {
      "cell_type": "code",
      "metadata": {
        "id": "h4Mx5PXvHip-"
      },
      "source": [
        "import os\n",
        "os.environ[\"JAVA_HOME\"] = \"/usr/lib/jvm/java-8-openjdk-amd64\"\n",
        "os.environ[\"SPARK_HOME\"] = \"/content/spark-3.0.1-bin-hadoop2.7\""
      ],
      "execution_count": null,
      "outputs": []
    },
    {
      "cell_type": "code",
      "metadata": {
        "id": "QUf_tULCX0KC"
      },
      "source": [
        "#list all the files\n",
        "!ls -l"
      ],
      "execution_count": null,
      "outputs": []
    },
    {
      "cell_type": "markdown",
      "metadata": {
        "id": "aiAY2LzSDRp7"
      },
      "source": [
        "total 214788\n",
        "drwxr-xr-x  1 root root      4096 Nov  6 17:30 sample_data\n",
        "drwxr-xr-x 13 1000 1000      4096 Aug 28 08:10 spark-3.0.1-bin-hadoop2.7\n",
        "-rw-r--r--  1 root root 219929956 Aug 28 09:25 spark-3.0.1-bin-hadoop2.7.tgz\n"
      ]
    },
    {
      "cell_type": "markdown",
      "metadata": {
        "id": "9cUqbsYwDTZt"
      },
      "source": [
        ""
      ]
    },
    {
      "cell_type": "code",
      "metadata": {
        "id": "wP4li3KCHzGg"
      },
      "source": [
        "import findspark\n",
        "findspark.init()\n",
        "from pyspark.sql import SparkSession\n",
        "spark = SparkSession.builder.getOrCreate()\n",
        "spark"
      ],
      "execution_count": null,
      "outputs": []
    },
    {
      "cell_type": "code",
      "metadata": {
        "id": "QY9gCoVwZWcP"
      },
      "source": [
        "!wget https://data.cityofchicago.org/api/views/ijzp-q8t2/rows.csv?accessType=DOWNLOAD"
      ],
      "execution_count": null,
      "outputs": []
    },
    {
      "cell_type": "code",
      "metadata": {
        "id": "Goaq2hfwxP8A"
      },
      "source": [
        "!ls -l"
      ],
      "execution_count": null,
      "outputs": []
    },
    {
      "cell_type": "code",
      "metadata": {
        "id": "ApRoXJi7xR6V"
      },
      "source": [
        "#move the rows.csv?accessType=DOWNLOAD\n",
        "!mv rows.csv\\?accessType\\=DOWNLOAD reported-crimes.csv\n"
      ],
      "execution_count": null,
      "outputs": []
    },
    {
      "cell_type": "code",
      "metadata": {
        "id": "0y1qtP9VxctK"
      },
      "source": [
        "!ls -l"
      ],
      "execution_count": null,
      "outputs": []
    },
    {
      "cell_type": "code",
      "metadata": {
        "id": "hK-ztK-hkJ9i"
      },
      "source": [
        "#Laod data in pyspark\n",
        "from pyspark.sql.functions import to_timestamp, col, lit\n",
        "df = spark.read.csv('reported-crimes.csv', header = True).withColumn('Date', to_timestamp(col('Date'), 'MM/dd/yyyy hh:mm:ss a')).filter(col('Date') <= lit('2018-11-11'))\n",
        "df.show(5)"
      ],
      "execution_count": null,
      "outputs": []
    },
    {
      "cell_type": "code",
      "metadata": {
        "id": "JWp3myqAy1t_"
      },
      "source": [
        "##List all the columns\n",
        "df.columns"
      ],
      "execution_count": null,
      "outputs": []
    },
    {
      "cell_type": "code",
      "metadata": {
        "id": "lpyU9UPuy14r"
      },
      "source": [
        "#Length of the all the fields\n",
        "len(df.columns)"
      ],
      "execution_count": null,
      "outputs": []
    },
    {
      "cell_type": "code",
      "metadata": {
        "id": "BOdp4CRMy18G"
      },
      "source": [
        "#Count method to get the all the records\n",
        "df.count()"
      ],
      "execution_count": null,
      "outputs": []
    },
    {
      "cell_type": "code",
      "metadata": {
        "id": "tS3N_BHKzJNu"
      },
      "source": [
        "#A duplicate of Pandas shape\n",
        "print((df.count()), (len(df.columns)))"
      ],
      "execution_count": null,
      "outputs": []
    },
    {
      "cell_type": "code",
      "metadata": {
        "id": "0UWitFOVzlLp"
      },
      "source": [
        "#List the Schema\n",
        "df.printSchema()"
      ],
      "execution_count": null,
      "outputs": []
    },
    {
      "cell_type": "code",
      "metadata": {
        "id": "q0XrEqAYzleM"
      },
      "source": [
        "#show only 2 columns values\n",
        "df.select('Case Number', 'Arrest').show(5)"
      ],
      "execution_count": null,
      "outputs": []
    },
    {
      "cell_type": "code",
      "metadata": {
        "id": "SG_DX3xDzlh7"
      },
      "source": [
        "#Statistical measure of each columns of the dataframe\n",
        "df.describe().show()"
      ],
      "execution_count": null,
      "outputs": []
    },
    {
      "cell_type": "code",
      "metadata": {
        "id": "uoEg_WJkzlk-"
      },
      "source": [
        "#Adding a new column\n",
        "#withcolumn function of Spark, lets you add a new column  sexual_crime by checking \"Primary Type\"\n",
        "#df.withColumn(\"sexual_crime\")\n"
      ],
      "execution_count": null,
      "outputs": []
    },
    {
      "cell_type": "code",
      "metadata": {
        "id": "8TKCipg35KDp"
      },
      "source": [
        "from pyspark.sql.types import StringType, DoubleType"
      ],
      "execution_count": null,
      "outputs": []
    },
    {
      "cell_type": "code",
      "metadata": {
        "id": "zM9pnYVl5KbS"
      },
      "source": [
        ""
      ],
      "execution_count": null,
      "outputs": []
    },
    {
      "cell_type": "markdown",
      "metadata": {
        "id": "e2OCVntT54pL"
      },
      "source": [
        "Filtering data\n"
      ]
    },
    {
      "cell_type": "code",
      "metadata": {
        "id": "gWcX5svK5KhT"
      },
      "source": [
        "df.filter(df[\"Primary Type\"] == \"CRIM SEXUAL ASSAULT\").show()"
      ],
      "execution_count": null,
      "outputs": []
    },
    {
      "cell_type": "code",
      "metadata": {
        "id": "mHjudKdj5Kel"
      },
      "source": [
        "#Show all the crimes related to Sexual assulat and Predatory\n",
        "df.filter((df[\"Primary Type\"] == \"CRIM SEXUAL ASSAULT\") & (df[\"Description\"] == \"PREDATORY\")).show()\n"
      ],
      "execution_count": null,
      "outputs": []
    },
    {
      "cell_type": "markdown",
      "metadata": {
        "id": "GnkSI2aq7MqU"
      },
      "source": [
        "Show Distinct Values"
      ]
    },
    {
      "cell_type": "code",
      "metadata": {
        "id": "LihtYABH5KYE"
      },
      "source": [
        "#Show distinct values of with Truncate set to False\n",
        "df.select(\"Primary Type\").distinct().show(truncate = False)"
      ],
      "execution_count": null,
      "outputs": []
    },
    {
      "cell_type": "code",
      "metadata": {
        "id": "oy0-FAv-78ta"
      },
      "source": [
        "#Grouping Data\n",
        "df.groupBy('Primary Type').count().show(50, False)"
      ],
      "execution_count": null,
      "outputs": []
    },
    {
      "cell_type": "markdown",
      "metadata": {
        "id": "LSBFgwff8qp5"
      },
      "source": [
        "Put order in above output"
      ]
    },
    {
      "cell_type": "code",
      "metadata": {
        "id": "fIR-HW4N78wr"
      },
      "source": [
        "df.groupBy(\"Primary Type\").count().orderBy('count', ascending=False).show(50, False)"
      ],
      "execution_count": null,
      "outputs": []
    },
    {
      "cell_type": "code",
      "metadata": {
        "id": "ByywJt4478ks"
      },
      "source": [
        "df.groupBy(\"Block\").count().orderBy('count', ascending=False).show(50, False)"
      ],
      "execution_count": null,
      "outputs": []
    },
    {
      "cell_type": "code",
      "metadata": {
        "id": "2Up5KjG5AU48"
      },
      "source": [
        ""
      ],
      "execution_count": null,
      "outputs": []
    },
    {
      "cell_type": "markdown",
      "metadata": {
        "id": "TYZGyajO5Jim"
      },
      "source": [
        ""
      ]
    }
  ]
}