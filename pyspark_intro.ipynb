{
  "nbformat": 4,
  "nbformat_minor": 0,
  "metadata": {
    "colab": {
      "name": "pyspark_intro.ipynb",
      "provenance": [],
      "collapsed_sections": [],
      "toc_visible": true,
      "authorship_tag": "ABX9TyOUc0QUQaPPCmIe192dnNxf",
      "include_colab_link": true
    },
    "kernelspec": {
      "name": "python3",
      "display_name": "Python 3"
    }
  },
  "cells": [
    {
      "cell_type": "markdown",
      "metadata": {
        "id": "view-in-github",
        "colab_type": "text"
      },
      "source": [
        "<a href=\"https://colab.research.google.com/github/menwcode/Data-Science/blob/main/pyspark_intro.ipynb\" target=\"_parent\"><img src=\"https://colab.research.google.com/assets/colab-badge.svg\" alt=\"Open In Colab\"/></a>"
      ]
    },
    {
      "cell_type": "code",
      "metadata": {
        "id": "8m0vSXMjGgsZ",
        "outputId": "e6a4c5eb-d11b-4081-f37e-eb7e56141531",
        "colab": {
          "base_uri": "https://localhost:8080/"
        }
      },
      "source": [
        "!apt-get update\n",
        "!apt-get install openjdk-8-jdk-headless -qq > /dev/null\n"
      ],
      "execution_count": 2,
      "outputs": [
        {
          "output_type": "stream",
          "text": [
            "Get:1 https://cloud.r-project.org/bin/linux/ubuntu bionic-cran40/ InRelease [3,626 B]\n",
            "Ign:2 https://developer.download.nvidia.com/compute/cuda/repos/ubuntu1804/x86_64  InRelease\n",
            "Get:3 http://security.ubuntu.com/ubuntu bionic-security InRelease [88.7 kB]\n",
            "Ign:4 https://developer.download.nvidia.com/compute/machine-learning/repos/ubuntu1804/x86_64  InRelease\n",
            "Get:5 https://developer.download.nvidia.com/compute/cuda/repos/ubuntu1804/x86_64  Release [697 B]\n",
            "Get:6 https://developer.download.nvidia.com/compute/machine-learning/repos/ubuntu1804/x86_64  Release [564 B]\n",
            "Get:7 https://developer.download.nvidia.com/compute/cuda/repos/ubuntu1804/x86_64  Release.gpg [836 B]\n",
            "Get:8 http://ppa.launchpad.net/c2d4u.team/c2d4u4.0+/ubuntu bionic InRelease [15.9 kB]\n",
            "Get:9 https://developer.download.nvidia.com/compute/machine-learning/repos/ubuntu1804/x86_64  Release.gpg [833 B]\n",
            "Hit:10 http://archive.ubuntu.com/ubuntu bionic InRelease\n",
            "Ign:11 https://developer.download.nvidia.com/compute/cuda/repos/ubuntu1804/x86_64  Packages\n",
            "Get:11 https://developer.download.nvidia.com/compute/cuda/repos/ubuntu1804/x86_64  Packages [407 kB]\n",
            "Get:12 https://developer.download.nvidia.com/compute/machine-learning/repos/ubuntu1804/x86_64  Packages [58.5 kB]\n",
            "Get:13 http://archive.ubuntu.com/ubuntu bionic-updates InRelease [88.7 kB]\n",
            "Get:14 http://ppa.launchpad.net/graphics-drivers/ppa/ubuntu bionic InRelease [21.3 kB]\n",
            "Get:15 http://security.ubuntu.com/ubuntu bionic-security/multiverse amd64 Packages [15.8 kB]\n",
            "Get:16 http://archive.ubuntu.com/ubuntu bionic-backports InRelease [74.6 kB]\n",
            "Get:17 http://security.ubuntu.com/ubuntu bionic-security/main amd64 Packages [1,781 kB]\n",
            "Get:18 http://ppa.launchpad.net/c2d4u.team/c2d4u4.0+/ubuntu bionic/main Sources [1,688 kB]\n",
            "Get:19 http://archive.ubuntu.com/ubuntu bionic-updates/restricted amd64 Packages [247 kB]\n",
            "Get:20 http://archive.ubuntu.com/ubuntu bionic-updates/universe amd64 Packages [2,129 kB]\n",
            "Get:21 http://security.ubuntu.com/ubuntu bionic-security/universe amd64 Packages [1,365 kB]\n",
            "Get:22 http://security.ubuntu.com/ubuntu bionic-security/restricted amd64 Packages [222 kB]\n",
            "Get:23 http://archive.ubuntu.com/ubuntu bionic-updates/multiverse amd64 Packages [46.3 kB]\n",
            "Get:24 http://archive.ubuntu.com/ubuntu bionic-updates/main amd64 Packages [2,198 kB]\n",
            "Get:25 http://ppa.launchpad.net/c2d4u.team/c2d4u4.0+/ubuntu bionic/main amd64 Packages [864 kB]\n",
            "Get:26 http://ppa.launchpad.net/graphics-drivers/ppa/ubuntu bionic/main amd64 Packages [46.6 kB]\n",
            "Fetched 11.4 MB in 6s (1,778 kB/s)\n",
            "Reading package lists... Done\n"
          ],
          "name": "stdout"
        }
      ]
    },
    {
      "cell_type": "code",
      "metadata": {
        "id": "1Bpp4nMNXhdO"
      },
      "source": [
        "!wget -q https://downloads.apache.org/spark/spark-3.0.1/spark-3.0.1-bin-hadoop2.7.tgz\n",
        "!tar xf spark-3.0.1-bin-hadoop2.7.tgz\n",
        "!pip install -q findspark"
      ],
      "execution_count": 3,
      "outputs": []
    },
    {
      "cell_type": "code",
      "metadata": {
        "id": "h4Mx5PXvHip-"
      },
      "source": [
        "import os\n",
        "os.environ[\"JAVA_HOME\"] = \"/usr/lib/jvm/java-8-openjdk-amd64\"\n",
        "os.environ[\"SPARK_HOME\"] = \"/content/spark-3.0.1-bin-hadoop2.7\""
      ],
      "execution_count": 4,
      "outputs": []
    },
    {
      "cell_type": "code",
      "metadata": {
        "id": "QUf_tULCX0KC",
        "outputId": "24ab0678-d8e1-4dd1-bab2-ed757fdbcdb1",
        "colab": {
          "base_uri": "https://localhost:8080/"
        }
      },
      "source": [
        "#list all the files\n",
        "!ls -l"
      ],
      "execution_count": 5,
      "outputs": [
        {
          "output_type": "stream",
          "text": [
            "total 214784\n",
            "drwxr-xr-x  1 root root      4096 Nov  6 17:30 sample_data\n",
            "drwxr-xr-x 13 1000 1000      4096 Aug 28 08:10 spark-3.0.1-bin-hadoop2.7\n",
            "-rw-r--r--  1 root root 219929956 Aug 28 09:25 spark-3.0.1-bin-hadoop2.7.tgz\n"
          ],
          "name": "stdout"
        }
      ]
    },
    {
      "cell_type": "markdown",
      "metadata": {
        "id": "aiAY2LzSDRp7"
      },
      "source": [
        "total 214788\n",
        "drwxr-xr-x  1 root root      4096 Nov  6 17:30 sample_data\n",
        "drwxr-xr-x 13 1000 1000      4096 Aug 28 08:10 spark-3.0.1-bin-hadoop2.7\n",
        "-rw-r--r--  1 root root 219929956 Aug 28 09:25 spark-3.0.1-bin-hadoop2.7.tgz\n"
      ]
    },
    {
      "cell_type": "markdown",
      "metadata": {
        "id": "9cUqbsYwDTZt"
      },
      "source": [
        ""
      ]
    },
    {
      "cell_type": "code",
      "metadata": {
        "id": "wP4li3KCHzGg",
        "outputId": "5ab10bcc-8fd0-4cb8-d246-061b6ae4adef",
        "colab": {
          "base_uri": "https://localhost:8080/",
          "height": 216
        }
      },
      "source": [
        "import findspark\n",
        "findspark.init()\n",
        "from pyspark.sql import SparkSession\n",
        "spark = SparkSession.builder.getOrCreate()\n",
        "spark"
      ],
      "execution_count": 6,
      "outputs": [
        {
          "output_type": "execute_result",
          "data": {
            "text/html": [
              "\n",
              "            <div>\n",
              "                <p><b>SparkSession - in-memory</b></p>\n",
              "                \n",
              "        <div>\n",
              "            <p><b>SparkContext</b></p>\n",
              "\n",
              "            <p><a href=\"http://f0d18376e9fc:4040\">Spark UI</a></p>\n",
              "\n",
              "            <dl>\n",
              "              <dt>Version</dt>\n",
              "                <dd><code>v3.0.1</code></dd>\n",
              "              <dt>Master</dt>\n",
              "                <dd><code>local[*]</code></dd>\n",
              "              <dt>AppName</dt>\n",
              "                <dd><code>pyspark-shell</code></dd>\n",
              "            </dl>\n",
              "        </div>\n",
              "        \n",
              "            </div>\n",
              "        "
            ],
            "text/plain": [
              "<pyspark.sql.session.SparkSession at 0x7fdeb4fbeb00>"
            ]
          },
          "metadata": {
            "tags": []
          },
          "execution_count": 6
        }
      ]
    },
    {
      "cell_type": "code",
      "metadata": {
        "id": "QY9gCoVwZWcP",
        "outputId": "173be00c-9818-4853-c7de-7c4943825afe",
        "colab": {
          "base_uri": "https://localhost:8080/"
        }
      },
      "source": [
        "!wget https://data.cityofchicago.org/api/views/ijzp-q8t2/rows.csv?accessType=DOWNLOAD"
      ],
      "execution_count": 7,
      "outputs": [
        {
          "output_type": "stream",
          "text": [
            "--2020-11-14 03:06:14--  https://data.cityofchicago.org/api/views/ijzp-q8t2/rows.csv?accessType=DOWNLOAD\n",
            "Resolving data.cityofchicago.org (data.cityofchicago.org)... 52.206.68.26, 52.206.140.199, 52.206.140.205\n",
            "Connecting to data.cityofchicago.org (data.cityofchicago.org)|52.206.68.26|:443... connected.\n",
            "HTTP request sent, awaiting response... 200 OK\n",
            "Length: unspecified [text/csv]\n",
            "Saving to: ‘rows.csv?accessType=DOWNLOAD’\n",
            "\n",
            "rows.csv?accessType     [              <=>   ]   1.59G  3.27MB/s    in 8m 11s  \n",
            "\n",
            "2020-11-14 03:14:27 (3.31 MB/s) - ‘rows.csv?accessType=DOWNLOAD’ saved [1704091917]\n",
            "\n"
          ],
          "name": "stdout"
        }
      ]
    },
    {
      "cell_type": "code",
      "metadata": {
        "id": "Goaq2hfwxP8A",
        "outputId": "c0a50156-6f0a-4fd1-87a6-5a17aa6354b3",
        "colab": {
          "base_uri": "https://localhost:8080/"
        }
      },
      "source": [
        "!ls -l"
      ],
      "execution_count": 12,
      "outputs": [
        {
          "output_type": "stream",
          "text": [
            "total 1878944\n",
            "-rw-r--r--  1 root root 1704091917 Nov 13 11:58 reported-crimes.csv\n",
            "drwxr-xr-x  1 root root       4096 Nov  6 17:30 sample_data\n",
            "drwxr-xr-x 13 1000 1000       4096 Aug 28 08:10 spark-3.0.1-bin-hadoop2.7\n",
            "-rw-r--r--  1 root root  219929956 Aug 28 09:25 spark-3.0.1-bin-hadoop2.7.tgz\n"
          ],
          "name": "stdout"
        }
      ]
    },
    {
      "cell_type": "code",
      "metadata": {
        "id": "ApRoXJi7xR6V",
        "outputId": "b856ec62-d2ad-4b36-c9cd-4d8b430ffeba",
        "colab": {
          "base_uri": "https://localhost:8080/"
        }
      },
      "source": [
        "#move the rows.csv?accessType=DOWNLOAD\n",
        "!mv rows.csv\\?accessType\\=DOWNLOAD reported-crimes.csv\n"
      ],
      "execution_count": 13,
      "outputs": [
        {
          "output_type": "stream",
          "text": [
            "mv: cannot stat 'rows.csv?accessType=DOWNLOAD': No such file or directory\n"
          ],
          "name": "stdout"
        }
      ]
    },
    {
      "cell_type": "code",
      "metadata": {
        "id": "0y1qtP9VxctK",
        "outputId": "2fdf8838-8075-4061-cbaa-cf19b097b1ac",
        "colab": {
          "base_uri": "https://localhost:8080/"
        }
      },
      "source": [
        "!ls -l"
      ],
      "execution_count": 14,
      "outputs": [
        {
          "output_type": "stream",
          "text": [
            "total 1878944\n",
            "-rw-r--r--  1 root root 1704091917 Nov 13 11:58 reported-crimes.csv\n",
            "drwxr-xr-x  1 root root       4096 Nov  6 17:30 sample_data\n",
            "drwxr-xr-x 13 1000 1000       4096 Aug 28 08:10 spark-3.0.1-bin-hadoop2.7\n",
            "-rw-r--r--  1 root root  219929956 Aug 28 09:25 spark-3.0.1-bin-hadoop2.7.tgz\n"
          ],
          "name": "stdout"
        }
      ]
    },
    {
      "cell_type": "code",
      "metadata": {
        "id": "hK-ztK-hkJ9i",
        "outputId": "105cfa85-3c8b-4599-8c6b-45a121e8e7fe",
        "colab": {
          "base_uri": "https://localhost:8080/"
        }
      },
      "source": [
        "#Laod data in pyspark\n",
        "from pyspark.sql.functions import to_timestamp, col, lit\n",
        "df = spark.read.csv('reported-crimes.csv', header = True).withColumn('Date', to_timestamp(col('Date'), 'MM/dd/yyyy hh:mm:ss a')).filter(col('Date') <= lit('2018-11-11'))\n",
        "df.show(5)"
      ],
      "execution_count": 15,
      "outputs": [
        {
          "output_type": "stream",
          "text": [
            "+--------+-----------+-------------------+--------------------+----+-------------------+--------------------+--------------------+------+--------+----+--------+----+--------------+--------+------------+------------+----+--------------------+--------+---------+--------+\n",
            "|      ID|Case Number|               Date|               Block|IUCR|       Primary Type|         Description|Location Description|Arrest|Domestic|Beat|District|Ward|Community Area|FBI Code|X Coordinate|Y Coordinate|Year|          Updated On|Latitude|Longitude|Location|\n",
            "+--------+-----------+-------------------+--------------------+----+-------------------+--------------------+--------------------+------+--------+----+--------+----+--------------+--------+------------+------------+----+--------------------+--------+---------+--------+\n",
            "|11034701|   JA366925|2001-01-01 11:00:00|     016XX E 86TH PL|1153| DECEPTIVE PRACTICE|FINANCIAL IDENTIT...|           RESIDENCE| false|   false|0412|     004|   8|            45|      11|        null|        null|2001|08/05/2017 03:50:...|    null|     null|    null|\n",
            "|11227287|   JB147188|2017-10-08 03:00:00|  092XX S RACINE AVE|0281|CRIM SEXUAL ASSAULT|      NON-AGGRAVATED|           RESIDENCE| false|   false|2222|     022|  21|            73|      02|        null|        null|2017|02/11/2018 03:57:...|    null|     null|    null|\n",
            "|11227583|   JB147595|2017-03-28 14:00:00|     026XX W 79TH ST|0620|           BURGLARY|      UNLAWFUL ENTRY|               OTHER| false|   false|0835|     008|  18|            70|      05|        null|        null|2017|02/11/2018 03:57:...|    null|     null|    null|\n",
            "|11227293|   JB147230|2017-09-09 20:17:00|060XX S EBERHART AVE|0810|              THEFT|           OVER $500|           RESIDENCE| false|   false|0313|     003|  20|            42|      06|        null|        null|2017|02/11/2018 03:57:...|    null|     null|    null|\n",
            "|11227634|   JB147599|2017-08-26 10:00:00| 001XX W RANDOLPH ST|0281|CRIM SEXUAL ASSAULT|      NON-AGGRAVATED|         HOTEL/MOTEL| false|   false|0122|     001|  42|            32|      02|        null|        null|2017|02/11/2018 03:57:...|    null|     null|    null|\n",
            "+--------+-----------+-------------------+--------------------+----+-------------------+--------------------+--------------------+------+--------+----+--------+----+--------------+--------+------------+------------+----+--------------------+--------+---------+--------+\n",
            "only showing top 5 rows\n",
            "\n"
          ],
          "name": "stdout"
        }
      ]
    },
    {
      "cell_type": "code",
      "metadata": {
        "id": "JWp3myqAy1t_",
        "outputId": "ffcd1dc4-f5d4-4a51-c317-406eb0ecbcf7",
        "colab": {
          "base_uri": "https://localhost:8080/"
        }
      },
      "source": [
        "##List all the columns\n",
        "df.columns"
      ],
      "execution_count": 16,
      "outputs": [
        {
          "output_type": "execute_result",
          "data": {
            "text/plain": [
              "['ID',\n",
              " 'Case Number',\n",
              " 'Date',\n",
              " 'Block',\n",
              " 'IUCR',\n",
              " 'Primary Type',\n",
              " 'Description',\n",
              " 'Location Description',\n",
              " 'Arrest',\n",
              " 'Domestic',\n",
              " 'Beat',\n",
              " 'District',\n",
              " 'Ward',\n",
              " 'Community Area',\n",
              " 'FBI Code',\n",
              " 'X Coordinate',\n",
              " 'Y Coordinate',\n",
              " 'Year',\n",
              " 'Updated On',\n",
              " 'Latitude',\n",
              " 'Longitude',\n",
              " 'Location']"
            ]
          },
          "metadata": {
            "tags": []
          },
          "execution_count": 16
        }
      ]
    },
    {
      "cell_type": "code",
      "metadata": {
        "id": "lpyU9UPuy14r",
        "outputId": "66170971-4e49-4d67-db2e-2c02b5a1c0e5",
        "colab": {
          "base_uri": "https://localhost:8080/"
        }
      },
      "source": [
        "#Length of the all the fields\n",
        "len(df.columns)"
      ],
      "execution_count": 17,
      "outputs": [
        {
          "output_type": "execute_result",
          "data": {
            "text/plain": [
              "22"
            ]
          },
          "metadata": {
            "tags": []
          },
          "execution_count": 17
        }
      ]
    },
    {
      "cell_type": "code",
      "metadata": {
        "id": "BOdp4CRMy18G",
        "outputId": "8a470595-7ab2-4b0d-cec1-965342917c0f",
        "colab": {
          "base_uri": "https://localhost:8080/"
        }
      },
      "source": [
        "#Count method to get the all the records\n",
        "df.count()"
      ],
      "execution_count": 18,
      "outputs": [
        {
          "output_type": "execute_result",
          "data": {
            "text/plain": [
              "6753615"
            ]
          },
          "metadata": {
            "tags": []
          },
          "execution_count": 18
        }
      ]
    },
    {
      "cell_type": "code",
      "metadata": {
        "id": "tS3N_BHKzJNu",
        "outputId": "f97941a1-c44f-4bad-99f2-a4dc10524955",
        "colab": {
          "base_uri": "https://localhost:8080/"
        }
      },
      "source": [
        "#A duplicate of Pandas shape\n",
        "print((df.count()), (len(df.columns)))"
      ],
      "execution_count": 19,
      "outputs": [
        {
          "output_type": "stream",
          "text": [
            "6753615 22\n"
          ],
          "name": "stdout"
        }
      ]
    },
    {
      "cell_type": "code",
      "metadata": {
        "id": "0UWitFOVzlLp",
        "outputId": "649cbd1c-c4d0-4efd-9e5b-9b0b4daaef88",
        "colab": {
          "base_uri": "https://localhost:8080/"
        }
      },
      "source": [
        "#List the Schema\n",
        "df.printSchema()"
      ],
      "execution_count": 20,
      "outputs": [
        {
          "output_type": "stream",
          "text": [
            "root\n",
            " |-- ID: string (nullable = true)\n",
            " |-- Case Number: string (nullable = true)\n",
            " |-- Date: timestamp (nullable = true)\n",
            " |-- Block: string (nullable = true)\n",
            " |-- IUCR: string (nullable = true)\n",
            " |-- Primary Type: string (nullable = true)\n",
            " |-- Description: string (nullable = true)\n",
            " |-- Location Description: string (nullable = true)\n",
            " |-- Arrest: string (nullable = true)\n",
            " |-- Domestic: string (nullable = true)\n",
            " |-- Beat: string (nullable = true)\n",
            " |-- District: string (nullable = true)\n",
            " |-- Ward: string (nullable = true)\n",
            " |-- Community Area: string (nullable = true)\n",
            " |-- FBI Code: string (nullable = true)\n",
            " |-- X Coordinate: string (nullable = true)\n",
            " |-- Y Coordinate: string (nullable = true)\n",
            " |-- Year: string (nullable = true)\n",
            " |-- Updated On: string (nullable = true)\n",
            " |-- Latitude: string (nullable = true)\n",
            " |-- Longitude: string (nullable = true)\n",
            " |-- Location: string (nullable = true)\n",
            "\n"
          ],
          "name": "stdout"
        }
      ]
    },
    {
      "cell_type": "code",
      "metadata": {
        "id": "q0XrEqAYzleM",
        "outputId": "f038d2d1-4c62-4494-a998-5961d7850181",
        "colab": {
          "base_uri": "https://localhost:8080/"
        }
      },
      "source": [
        "#show only 2 columns values\n",
        "df.select('Case Number', 'Arrest').show(5)"
      ],
      "execution_count": 21,
      "outputs": [
        {
          "output_type": "stream",
          "text": [
            "+-----------+------+\n",
            "|Case Number|Arrest|\n",
            "+-----------+------+\n",
            "|   JA366925| false|\n",
            "|   JB147188| false|\n",
            "|   JB147595| false|\n",
            "|   JB147230| false|\n",
            "|   JB147599| false|\n",
            "+-----------+------+\n",
            "only showing top 5 rows\n",
            "\n"
          ],
          "name": "stdout"
        }
      ]
    },
    {
      "cell_type": "code",
      "metadata": {
        "id": "SG_DX3xDzlh7",
        "outputId": "4d8ed748-76f9-4c2c-a89b-fad83f51f260",
        "colab": {
          "base_uri": "https://localhost:8080/"
        }
      },
      "source": [
        "#Statistical measure of each columns of the dataframe\n",
        "df.describe().show()"
      ],
      "execution_count": 22,
      "outputs": [
        {
          "output_type": "stream",
          "text": [
            "+-------+------------------+------------------+--------------+------------------+-----------------+---------------+--------------------+-------+--------+------------------+------------------+------------------+-----------------+------------------+------------------+-----------------+-----------------+--------------------+-------------------+--------------------+--------------------+\n",
            "|summary|                ID|       Case Number|         Block|              IUCR|     Primary Type|    Description|Location Description| Arrest|Domestic|              Beat|          District|              Ward|   Community Area|          FBI Code|      X Coordinate|     Y Coordinate|             Year|          Updated On|           Latitude|           Longitude|            Location|\n",
            "+-------+------------------+------------------+--------------+------------------+-----------------+---------------+--------------------+-------+--------+------------------+------------------+------------------+-----------------+------------------+------------------+-----------------+-----------------+--------------------+-------------------+--------------------+--------------------+\n",
            "|  count|           6753615|           6753611|       6753615|           6753615|          6753615|        6753615|             6748273|6753615| 6753615|           6753615|           6753568|           6138805|          6140131|           6753615|           6687281|          6687281|          6753615|             6753615|            6687281|             6687281|             6687281|\n",
            "|   mean| 6230114.512273945|305161.84210526315|          null|1128.6949851664142|             null|           null|                null|   null|    null|1191.8896969993107|11.303157975162167|22.675762628068494|37.60031878798677|12.223872512702817| 1164513.880440197|1885710.200631916|2008.326627147091|                null|  41.84198551414454|  -87.67181306284756|                null|\n",
            "| stddev|3042278.8857925716|134932.50160327618|          null| 811.1503179405654|             null|           null|                null|   null|    null| 703.4097704825253| 6.945783830979522| 13.83020132921402|21.54133618002725| 7.384706196274242|17175.749764509972|32717.47035765155| 5.01153663414528|                null|0.09003043069336929|0.062153924021432126|                null|\n",
            "|    min|              1000|         .JB299184|0000X E 100 PL|              0110|            ARSON| $300 AND UNDER|\"CTA \"\"L\"\" PLATFORM\"|  false|   false|              0111|               001|                 1|                0|               01A|                 0|                0|             2001|01/01/2007 07:32:...|       36.619446395|       -87.524529378|(36.619446395, -9...|\n",
            "|    max|           9999999|         ZZZ199957|   XX  UNKNOWN|              9901|WEAPONS VIOLATION|WIREROOM/SPORTS|                YMCA|   true|    true|              2535|               031|                 9|                9|                26|           1205119|          1951622|             2018|12/31/2019 03:52:...|       42.022910333|       -91.686565684|(42.022910333, -8...|\n",
            "+-------+------------------+------------------+--------------+------------------+-----------------+---------------+--------------------+-------+--------+------------------+------------------+------------------+-----------------+------------------+------------------+-----------------+-----------------+--------------------+-------------------+--------------------+--------------------+\n",
            "\n"
          ],
          "name": "stdout"
        }
      ]
    },
    {
      "cell_type": "code",
      "metadata": {
        "id": "uoEg_WJkzlk-"
      },
      "source": [
        "#Adding a new column\n",
        "#withcolumn function of Spark, lets you add a new column  sexual_crime by checking \"Primary Type\"\n",
        "#df.withColumn(\"sexual_crime\")\n"
      ],
      "execution_count": null,
      "outputs": []
    },
    {
      "cell_type": "code",
      "metadata": {
        "id": "8TKCipg35KDp"
      },
      "source": [
        "from pyspark.sql.types import StringType, DoubleType"
      ],
      "execution_count": null,
      "outputs": []
    },
    {
      "cell_type": "code",
      "metadata": {
        "id": "zM9pnYVl5KbS"
      },
      "source": [
        ""
      ],
      "execution_count": null,
      "outputs": []
    },
    {
      "cell_type": "markdown",
      "metadata": {
        "id": "e2OCVntT54pL"
      },
      "source": [
        "Filtering data\n"
      ]
    },
    {
      "cell_type": "code",
      "metadata": {
        "id": "gWcX5svK5KhT"
      },
      "source": [
        "df.filter(df[\"Primary Type\"] == \"CRIM SEXUAL ASSAULT\").show()"
      ],
      "execution_count": null,
      "outputs": []
    },
    {
      "cell_type": "code",
      "metadata": {
        "id": "mHjudKdj5Kel"
      },
      "source": [
        "#Show all the crimes related to Sexual assulat and Predatory\n",
        "df.filter((df[\"Primary Type\"] == \"CRIM SEXUAL ASSAULT\") & (df[\"Description\"] == \"PREDATORY\")).show()\n"
      ],
      "execution_count": null,
      "outputs": []
    },
    {
      "cell_type": "markdown",
      "metadata": {
        "id": "GnkSI2aq7MqU"
      },
      "source": [
        "Show Distinct Values"
      ]
    },
    {
      "cell_type": "code",
      "metadata": {
        "id": "LihtYABH5KYE"
      },
      "source": [
        "#Show distinct values of with Truncate set to False\n",
        "df.select(\"Primary Type\").distinct().show(truncate = False)"
      ],
      "execution_count": null,
      "outputs": []
    },
    {
      "cell_type": "code",
      "metadata": {
        "id": "oy0-FAv-78ta"
      },
      "source": [
        "#Grouping Data\n",
        "df.groupBy('Primary Type').count().show(50, False)"
      ],
      "execution_count": null,
      "outputs": []
    },
    {
      "cell_type": "markdown",
      "metadata": {
        "id": "LSBFgwff8qp5"
      },
      "source": [
        "Put order in above output"
      ]
    },
    {
      "cell_type": "code",
      "metadata": {
        "id": "fIR-HW4N78wr"
      },
      "source": [
        "df.groupBy(\"Primary Type\").count().orderBy('count', ascending=False).show(50, False)"
      ],
      "execution_count": null,
      "outputs": []
    },
    {
      "cell_type": "code",
      "metadata": {
        "id": "ByywJt4478ks"
      },
      "source": [
        "df.groupBy(\"Block\").count().orderBy('count', ascending=False).show(50, False)"
      ],
      "execution_count": null,
      "outputs": []
    },
    {
      "cell_type": "code",
      "metadata": {
        "id": "2Up5KjG5AU48"
      },
      "source": [
        "#Show all the Arrest by the crime type\n",
        "df.select(\"Arrest\").distinct().show()"
      ],
      "execution_count": null,
      "outputs": []
    },
    {
      "cell_type": "code",
      "metadata": {
        "id": "Y0KN0JwRFOFK",
        "outputId": "f7d76514-e533-4d29-88d8-48d51ebd4d89",
        "colab": {
          "base_uri": "https://localhost:8080/"
        }
      },
      "source": [
        "#What is the arrest percentage\n",
        "df.filter(df[\"Arrest\"] == \"true\").count()/df.select(\"Arrest\").count()"
      ],
      "execution_count": null,
      "outputs": [
        {
          "output_type": "execute_result",
          "data": {
            "text/plain": [
              "0.27754484080007524"
            ]
          },
          "metadata": {
            "tags": []
          },
          "execution_count": 81
        }
      ]
    },
    {
      "cell_type": "markdown",
      "metadata": {
        "id": "q_hhJrpsHNrI"
      },
      "source": [
        "# Show the top location of Crime"
      ]
    },
    {
      "cell_type": "code",
      "metadata": {
        "id": "0pq7z-ABFOJQ",
        "outputId": "d7b18606-98d3-4bf0-f6a9-9255a9f9ced0",
        "colab": {
          "base_uri": "https://localhost:8080/"
        }
      },
      "source": [
        "#Top crime location in the city\n",
        "df.groupBy(\"Location Description\").count().orderBy('count', ascending=False).show(50, False)"
      ],
      "execution_count": null,
      "outputs": [
        {
          "output_type": "stream",
          "text": [
            "+---------------------------------+-------+\n",
            "|Location Description             |count  |\n",
            "+---------------------------------+-------+\n",
            "|STREET                           |1770578|\n",
            "|RESIDENCE                        |1144978|\n",
            "|APARTMENT                        |698338 |\n",
            "|SIDEWALK                         |665552 |\n",
            "|OTHER                            |256793 |\n",
            "|PARKING LOT/GARAGE(NON.RESID.)   |193760 |\n",
            "|ALLEY                            |150911 |\n",
            "|SCHOOL, PUBLIC, BUILDING         |142316 |\n",
            "|RESIDENCE-GARAGE                 |131605 |\n",
            "|SMALL RETAIL STORE               |119270 |\n",
            "|RESIDENCE PORCH/HALLWAY          |117902 |\n",
            "|VEHICLE NON-COMMERCIAL           |108435 |\n",
            "|RESTAURANT                       |105608 |\n",
            "|GROCERY FOOD STORE               |87301  |\n",
            "|DEPARTMENT STORE                 |83663  |\n",
            "|GAS STATION                      |71985  |\n",
            "|RESIDENTIAL YARD (FRONT/BACK)    |69449  |\n",
            "|CHA PARKING LOT/GROUNDS          |55452  |\n",
            "|PARK PROPERTY                    |52340  |\n",
            "|COMMERCIAL / BUSINESS OFFICE     |49176  |\n",
            "|CTA PLATFORM                     |36282  |\n",
            "|CHA APARTMENT                    |36003  |\n",
            "|BAR OR TAVERN                    |35976  |\n",
            "|DRUG STORE                       |30593  |\n",
            "|SCHOOL, PUBLIC, GROUNDS          |28993  |\n",
            "|HOTEL/MOTEL                      |28013  |\n",
            "|BANK                             |27535  |\n",
            "|CHA HALLWAY/STAIRWELL/ELEVATOR   |24811  |\n",
            "|CTA TRAIN                        |23980  |\n",
            "|VACANT LOT/LAND                  |23911  |\n",
            "|TAVERN/LIQUOR STORE              |21810  |\n",
            "|CTA BUS                          |21583  |\n",
            "|HOSPITAL BUILDING/GROUNDS        |20439  |\n",
            "|DRIVEWAY - RESIDENTIAL           |19598  |\n",
            "|POLICE FACILITY/VEH PARKING LOT  |17606  |\n",
            "|AIRPORT/AIRCRAFT                 |16114  |\n",
            "|CONVENIENCE STORE                |16005  |\n",
            "|CHURCH/SYNAGOGUE/PLACE OF WORSHIP|14872  |\n",
            "|GOVERNMENT BUILDING/PROPERTY     |14137  |\n",
            "|NURSING HOME/RETIREMENT HOME     |13451  |\n",
            "|SCHOOL, PRIVATE, BUILDING        |13405  |\n",
            "|CONSTRUCTION SITE                |12906  |\n",
            "|ABANDONED BUILDING               |11178  |\n",
            "|CURRENCY EXCHANGE                |10768  |\n",
            "|CTA GARAGE / OTHER PROPERTY      |9937   |\n",
            "|WAREHOUSE                        |9232   |\n",
            "|ATHLETIC CLUB                    |8029   |\n",
            "|BARBERSHOP                       |7699   |\n",
            "|ATM (AUTOMATIC TELLER MACHINE)   |7591   |\n",
            "|TAXICAB                          |7211   |\n",
            "+---------------------------------+-------+\n",
            "only showing top 50 rows\n",
            "\n"
          ],
          "name": "stdout"
        }
      ]
    },
    {
      "cell_type": "markdown",
      "metadata": {
        "id": "xkvHr1g0Gp7p"
      },
      "source": [
        "## String Functions\n",
        "Display the primary type column in lower and upper characters and the first 4 characters\n",
        "\n"
      ]
    },
    {
      "cell_type": "code",
      "metadata": {
        "id": "ncOM8Yr5G-ol",
        "outputId": "97cc557a-f757-4c5c-ee6b-8fcb424c7087",
        "colab": {
          "base_uri": "https://localhost:8080/"
        }
      },
      "source": [
        "from pyspark.sql.functions import lower, upper, substring\n",
        "df.select(lower(df[\"Primary Type\"]), upper(df[\"Primary Type\"]), substring(df[\"Primary Type\"], 1, 4)).show(5, truncate=False)"
      ],
      "execution_count": null,
      "outputs": [
        {
          "output_type": "stream",
          "text": [
            "+-------------------+-------------------+-----------------------------+\n",
            "|lower(Primary Type)|upper(Primary Type)|substring(Primary Type, 1, 4)|\n",
            "+-------------------+-------------------+-----------------------------+\n",
            "|deceptive practice |DECEPTIVE PRACTICE |DECE                         |\n",
            "|crim sexual assault|CRIM SEXUAL ASSAULT|CRIM                         |\n",
            "|burglary           |BURGLARY           |BURG                         |\n",
            "|theft              |THEFT              |THEF                         |\n",
            "|crim sexual assault|CRIM SEXUAL ASSAULT|CRIM                         |\n",
            "+-------------------+-------------------+-----------------------------+\n",
            "only showing top 5 rows\n",
            "\n"
          ],
          "name": "stdout"
        }
      ]
    },
    {
      "cell_type": "markdown",
      "metadata": {
        "id": "OLfGgwy_H_ga"
      },
      "source": [
        "# Show the oldest date and most recent dates"
      ]
    },
    {
      "cell_type": "markdown",
      "metadata": {
        "id": "TYZGyajO5Jim"
      },
      "source": [
        ""
      ]
    },
    {
      "cell_type": "code",
      "metadata": {
        "id": "S7GeNJFEIEun",
        "outputId": "0d07cef6-d456-4ff5-a9e2-9f3fde776585",
        "colab": {
          "base_uri": "https://localhost:8080/"
        }
      },
      "source": [
        "from pyspark.sql.functions import  min, max\n",
        "df.select(min(df[\"Date\"]), max(col('Date'))).show()"
      ],
      "execution_count": null,
      "outputs": [
        {
          "output_type": "stream",
          "text": [
            "+-------------------+-------------------+\n",
            "|          min(Date)|          max(Date)|\n",
            "+-------------------+-------------------+\n",
            "|2001-01-01 00:00:00|2018-11-11 00:00:00|\n",
            "+-------------------+-------------------+\n",
            "\n"
          ],
          "name": "stdout"
        }
      ]
    },
    {
      "cell_type": "markdown",
      "metadata": {
        "id": "ZIj0E7ptIngr"
      },
      "source": [
        "# What is 3 days earlier than the older date and 3 days later than the most recent dates"
      ]
    },
    {
      "cell_type": "code",
      "metadata": {
        "id": "TQy27MuxIiqD",
        "outputId": "3b74e932-06c9-4d8d-9b77-c72406570e56",
        "colab": {
          "base_uri": "https://localhost:8080/"
        }
      },
      "source": [
        "from pyspark.sql.functions import date_add, date_sub\n",
        "df.select(date_sub(min(df[\"Date\"])), 3)"
      ],
      "execution_count": null,
      "outputs": [
        {
          "output_type": "error",
          "ename": "TypeError",
          "evalue": "ignored",
          "traceback": [
            "\u001b[0;31m---------------------------------------------------------------------------\u001b[0m",
            "\u001b[0;31mTypeError\u001b[0m                                 Traceback (most recent call last)",
            "\u001b[0;32m<ipython-input-85-f200ad0dcd3c>\u001b[0m in \u001b[0;36m<module>\u001b[0;34m()\u001b[0m\n\u001b[1;32m      1\u001b[0m \u001b[0;32mfrom\u001b[0m \u001b[0mpyspark\u001b[0m\u001b[0;34m.\u001b[0m\u001b[0msql\u001b[0m\u001b[0;34m.\u001b[0m\u001b[0mfunctions\u001b[0m \u001b[0;32mimport\u001b[0m \u001b[0mdate_add\u001b[0m\u001b[0;34m,\u001b[0m \u001b[0mdate_sub\u001b[0m\u001b[0;34m\u001b[0m\u001b[0;34m\u001b[0m\u001b[0m\n\u001b[0;32m----> 2\u001b[0;31m \u001b[0mdf\u001b[0m\u001b[0;34m.\u001b[0m\u001b[0mselect\u001b[0m\u001b[0;34m(\u001b[0m\u001b[0mdate_sub\u001b[0m\u001b[0;34m(\u001b[0m\u001b[0mmin\u001b[0m\u001b[0;34m(\u001b[0m\u001b[0mdf\u001b[0m\u001b[0;34m[\u001b[0m\u001b[0;34m\"Date\"\u001b[0m\u001b[0;34m]\u001b[0m\u001b[0;34m)\u001b[0m\u001b[0;34m)\u001b[0m\u001b[0;34m,\u001b[0m \u001b[0;36m3\u001b[0m\u001b[0;34m)\u001b[0m\u001b[0;34m\u001b[0m\u001b[0;34m\u001b[0m\u001b[0m\n\u001b[0m",
            "\u001b[0;31mTypeError\u001b[0m: date_sub() missing 1 required positional argument: 'days'"
          ]
        }
      ]
    },
    {
      "cell_type": "code",
      "metadata": {
        "id": "3hnvl1UFMJ0M"
      },
      "source": [
        "#\n",
        "df.groupBy('Primary Type').max().show(5, False)"
      ],
      "execution_count": null,
      "outputs": []
    },
    {
      "cell_type": "markdown",
      "metadata": {
        "id": "-gd7zOgXJb1o"
      },
      "source": [
        "# UDF (User Defined Functions): there is a performance impact"
      ]
    },
    {
      "cell_type": "code",
      "metadata": {
        "id": "ifldlKs_Jbrp"
      },
      "source": [
        "#Traditional Python function\n",
        "from pyspark.sql.functions import  udf\n",
        "\n",
        "def price_range(brand):\n",
        "  if brand in ['Samsung','Apple']:\n",
        "    return 'High Price'\n",
        "  elif brand == \"MI\":\n",
        "    return \"mid Price\"\n",
        "  else:\n",
        "    return \"low price\""
      ],
      "execution_count": null,
      "outputs": []
    },
    {
      "cell_type": "code",
      "metadata": {
        "id": "71dtQ5s1NWxs"
      },
      "source": [
        "#Now you could call\n",
        "brand_udf = udf()"
      ],
      "execution_count": null,
      "outputs": []
    },
    {
      "cell_type": "code",
      "metadata": {
        "id": "RlBlvcjBSfiL"
      },
      "source": [
        ""
      ],
      "execution_count": null,
      "outputs": []
    }
  ]
}